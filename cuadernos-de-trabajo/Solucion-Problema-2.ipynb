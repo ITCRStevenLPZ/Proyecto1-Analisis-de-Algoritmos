{
 "cells": [
  {
   "cell_type": "markdown",
   "metadata": {},
   "source": [
    "# Intercambio de Adyacentes #"
   ]
  },
  {
   "cell_type": "markdown",
   "metadata": {},
   "source": [
    "Los algoritmos de ordenamiento por intercambio de adyacentes, se refieren a los algoritmos que intercambian la posición actual, por la siguiente, o viceversa."
   ]
  },
  {
   "attachments": {
    "burbuja.jpg": {
     "image/jpeg": "[encoded data removed]"
    }
   },
   "cell_type": "markdown",
   "metadata": {},
   "source": [
    "![burbuja.jpg](attachment:burbuja.jpg)"
   ]
  },
  {
   "cell_type": "markdown",
   "metadata": {},
   "source": [
    "## Algoritmos ##"
   ]
  },
  {
   "cell_type": "markdown",
   "metadata": {},
   "source": [
    "Burbuja: Este algoritmo hace múltiples pasadas a lo largo de una lista o arreglo. Compara los elementos adyacentes e intercambia los que no están en orden."
   ]
  },
  {
   "cell_type": "code",
   "execution_count": 1,
   "metadata": {},
   "outputs": [
    {
     "name": "stdout",
     "output_type": "stream",
     "text": [
      "[1, 5, 15, 24, 32, 54]\n"
     ]
    }
   ],
   "source": [
    "from Algoritmos import bubbleSort\n",
    "A = [15,32,5,24,1,54]\n",
    "bubbleSort(A)\n",
    "print(A)"
   ]
  },
  {
   "cell_type": "markdown",
   "metadata": {},
   "source": [
    "Inserción: El funcionamiento de este algoritmo, consiste en recorrer la lista, seleccionando en cada iteración un valor como clave o pivote, y compararlo con el resto de elementos e insertándolo en su lugar correspondiente."
   ]
  },
  {
   "cell_type": "code",
   "execution_count": 2,
   "metadata": {},
   "outputs": [
    {
     "name": "stdout",
     "output_type": "stream",
     "text": [
      "[1, 7, 12, 22, 37, 83]\n"
     ]
    }
   ],
   "source": [
    "from Algoritmos import insertionSort\n",
    "A = [12,37,7,22,1,83]\n",
    "insertionSort(A)\n",
    "print(A)"
   ]
  },
  {
   "cell_type": "markdown",
   "metadata": {},
   "source": [
    "Selección: Este ordenamiento se encarga de encontrar el menor de un arreglo, e intercambiarlo con el elemento que está en la primera posición, y así sucesivamente hasta ordenar todo."
   ]
  },
  {
   "cell_type": "code",
   "execution_count": 3,
   "metadata": {},
   "outputs": [
    {
     "name": "stdout",
     "output_type": "stream",
     "text": [
      "[2, 3, 5, 13, 24, 45]\n"
     ]
    }
   ],
   "source": [
    "from Algoritmos import selectionSort \n",
    "A = [24,2,13,45,3,5]\n",
    "selectionSort(A)\n",
    "print(A)"
   ]
  },
  {
   "cell_type": "markdown",
   "metadata": {},
   "source": [
    "Burbuja optimizado: Este ordenamiento tiene el mismo sistema de burbuja, la única diferencia es que este válida si la lista ya está ordenada, para no volver a recorrerla, por lo que va a hacer más eficiente, y si presenta diferentes casos temporales."
   ]
  },
  {
   "cell_type": "code",
   "execution_count": 4,
   "metadata": {},
   "outputs": [
    {
     "name": "stdout",
     "output_type": "stream",
     "text": [
      "[4, 19, 23, 24, 31, 65]\n"
     ]
    }
   ],
   "source": [
    "from Algoritmos import optimized_bubbleSort\n",
    "A = [4,65,24,19,31,23]\n",
    "optimized_bubbleSort(A)\n",
    "print(A)"
   ]
  },
  {
   "cell_type": "markdown",
   "metadata": {},
   "source": [
    "## Especificaciones del Problema ##"
   ]
  },
  {
   "cell_type": "markdown",
   "metadata": {},
   "source": [
    "Sabemos que los algoritmos por intercambio de adyacente presentan una complejidad temporal cuadrática en su casos promedio y peor. Aquí un ejemplo del peor caso del ordenamiento por inserción."
   ]
  },
  {
   "cell_type": "markdown",
   "metadata": {},
   "source": [
    "$$\n",
    "T_{peor}(n)=        \\sum_{i=1}^{n}\\sum_{j=1}^{i} 1\n",
    "$$"
   ]
  },
  {
   "cell_type": "markdown",
   "metadata": {},
   "source": [
    "$$\n",
    "T_{peor}(n)=         \\sum_{i=1}^{n} i\n",
    "$$"
   ]
  },
  {
   "cell_type": "markdown",
   "metadata": {},
   "source": [
    "$$\n",
    "\\begin{aligned}\n",
    "T_{peor}(n) = \\frac{n(n+1)}{2} \\\\\n",
    "\\end{aligned}\n",
    "$$"
   ]
  },
  {
   "cell_type": "markdown",
   "metadata": {},
   "source": [
    "$$\n",
    "\\begin{aligned}\n",
    "T_{peor}(n) = \\mathcal{O}(n^2) \\\\\n",
    "\\end{aligned}\n",
    "$$"
   ]
  },
  {
   "cell_type": "markdown",
   "metadata": {},
   "source": [
    "A pesar que el consumo de recurso temporal de estos algoritmos cae en la misma clase de complejidad, ¿cómo se comparan en cuánto a rendimiento temporal? ¿Hay alguno más eficiente? Si es el caso, ¿cómo se justifica esta diferencia en eficiencia?."
   ]
  },
  {
   "cell_type": "markdown",
   "metadata": {},
   "source": [
    "Para responder estas preguntas solo hay una forma de saberlo, y es mediante la práctica o aplicación de la teoría. Pero la verdadera pregunta al problema es ¿Cómo llevar a cabo las pruebas?, para que estos algoritmos muestren todo su potencial y poder comparar realmente cuál es el más, o menos eficiente del resto de algoritmos por cambio de adyacentes."
   ]
  },
  {
   "cell_type": "markdown",
   "metadata": {},
   "source": [
    "## Hipótesis ##"
   ]
  },
  {
   "cell_type": "markdown",
   "metadata": {},
   "source": [
    "En cuanto a la hipótesis de esta investigación, muy posiblemente el algoritmo que vaya a ser más ineficiente en general va a ser el burbuja, ya que no presenta casos y además, en una lista ya ordenada la recorre completa nuevamente para verificar lo que ya está presente."
   ]
  },
  {
   "cell_type": "markdown",
   "metadata": {},
   "source": [
    "En el peor caso la pelea por eficiencia podría estar entre el ordenamiento por selección y el burbuja optimizado, porque ambos deben hacer practicamente los mismos recorridos e intercambios para ordenar la lista."
   ]
  },
  {
   "cell_type": "markdown",
   "metadata": {},
   "source": [
    "En el caso promedio el ordenamiento por inserción puede sorprender, ya que tiene más posibilidades de colocar su pivote donde corresponde y ordenar la lista más rápidamente que los demás algoritmos."
   ]
  },
  {
   "cell_type": "markdown",
   "metadata": {},
   "source": [
    "Y por último, en el mejor de los casos, posiblemente sea el burbuja optimizado el más eficiente, porque simplemente va a verificar si la lista está ordenada y la retorna."
   ]
  },
  {
   "cell_type": "markdown",
   "metadata": {},
   "source": [
    "Se muesta los posibles casos para los algoritmos por intercambio de adyacentes:"
   ]
  },
  {
   "cell_type": "markdown",
   "metadata": {},
   "source": [
    "|Casos                  |Mejor    |Promedio  |Peor|\n",
    "|-----------------------|:-------:|---------:|------:|\n",
    "| Bubble Sort           |$O$($n^2$)|$O$($n^2$)|$O$($n^2$)|\n",
    "| Bubble Sort Optimized |$O$($n$)|$O$($n^2$)|$O$($n^2$)|\n",
    "| Insertion Sort        |$O$($n$)|$O$($n^2$)|$O$($n^2$) |\n",
    "| Selection Sort        |$O$($n^2$)|$O$($n^2$)|$O$($n^2$) |"
   ]
  },
  {
   "cell_type": "markdown",
   "metadata": {},
   "source": [
    "## Metodología de la investigación ##"
   ]
  },
  {
   "cell_type": "markdown",
   "metadata": {},
   "source": [
    "## Parte 1 ##"
   ]
  },
  {
   "cell_type": "markdown",
   "metadata": {},
   "source": [
    "¿Cómo se comparan en cuánto a rendimiento temporal los algoritmos? ¿Hay alguno más eficiente?, para justificar esta pregunta se hará mediante la práctica en los siguientes métodos."
   ]
  },
  {
   "cell_type": "markdown",
   "metadata": {},
   "source": [
    "## Diseño de algoritmos ## "
   ]
  },
  {
   "cell_type": "markdown",
   "metadata": {},
   "source": [
    "1. Se deberán generar los casos mejor, peor, promedio para los algoritmos correspondientes y que la lista cumpla con la misma cantidad de enteros para todos. A estos métodos les entrará un número entero, que indica la cantidad de elementos que tendrá la lista, y retornará la lista, que será el respectivo caso para el algoritmo. Estas pruebas serán muy similares a la primer pregunta."
   ]
  },
  {
   "cell_type": "markdown",
   "metadata": {},
   "source": [
    "Aquí una breve explicación de los casos de complejidad temporal de los algoritmos por intercambio de adyacentes:\n",
    "\n",
    "Burbuja optimizado:\n",
    "\n",
    "* `Mejor caso`: Cuando la lista esta totalmente ordenada.\n",
    "* `Caso promedio`: Una lista aleatoria.\n",
    "* `Peor caso`: La lista ordenada descendentemente, es decir de mayor a menor, porque burbuja_optimizado va a tener que hacer todas sus iteraciones para poder llevar el numero mayor hasta el final, y así sucesivamente.\n",
    "\n",
    "Ordenamiento por inserción:\n",
    "\n",
    "* `Mejor caso`: Cuando la lista esta totalmente ordenada.\n",
    "* `Caso promedio`: Una lista aleatoria.\n",
    "* `Peor caso`: Una lista ordenada descendentemente,porque el pivote va a hacer el menor y va a tener que llevarlo siempre al final de la lista.\n",
    "\n",
    "Los algoritmos burbuja y selección no presentan casos, solamente tiene una complejidad temporal de  $\\mathcal{O}(n^2) $, con cualquier arreglo que vaya a ordenar. Aunque este sea un caso especial, haremos la pruebas en igualdad de condiciones en todos los ordenamientos, por lo tanto, se utilizaran listas ordenadas, aleatorias y en orden descendente.\n",
    "\n",
    "\n",
    "\n"
   ]
  },
  {
   "cell_type": "markdown",
   "metadata": {},
   "source": [
    "2. Se generarán distintos tamaños de listas para probar los algoritmos en todos los ámbitos, por ejemplo las listas serán de veinticinco elementos, cien, o más de mil elementos, este monto está sujeto a cambios. Aquí realmente se mostrará cúal de ellos es más eficiente en cuánto a espacio temporal."
   ]
  },
  {
   "cell_type": "markdown",
   "metadata": {},
   "source": [
    "3. Recolectar los tiempos (en segundos) que toman resolver cada caso de dicho algoritmo y con ello estimar la complejidad temporal por medio de la biblioteca `big_o`.\n",
    "    \n",
    "  * `función del algoritmo`\n",
    "  * `función generadora de cada caso que recibe por parámetro el tamaño de la lista` \n",
    "  * `min_n`: establecer un numero mínimo de 25\n",
    "  * `max_n`: 1000 los números tendrán un rango máximo de 1000\n",
    "  * `n_measures`: tomar alrededor de 100 muestras a probar\n",
    "  * `n_repeats`: ejecutar las pruebas 3 veces \n",
    "  * `verbose`:False, evitar mensajes adicionales en ejecución\n",
    "  * `classes`: Complejidad esperada del algoritmo para el caso a probar.\n",
    "  * `return_raw_data`:True, obtener los datos en un arreglo para poder graficarlos\n",
    "        \n",
    "    Estos parámetros no son fijos, van a depender de distintos factores, como por ejemplo en la computadora que se ejecute, cambiar elementos o variables durante el desarrollo de la práctica por cuestiones de eficiencia y tiempo de ejecución a la hora de recolectar de los datos."
   ]
  },
  {
   "cell_type": "markdown",
   "metadata": {},
   "source": [
    "4. Para notar realmente la diferencia temporal entre algoritmos, se hará con un cuadro comparativo, comparando valga la redundancia los tiempos que retornen estos algoritmos durante su ejecución. Y se graficarán los tiempos de cada ordenamiento esto con ayuda de Mathplotlib, la cuál es una librería de Python 3 que ofrece la opción de generar gráficas, utilizando xs y ys el n del arreglo y el tiempo que tomó ordenarlo (segundos), para luego compararlos por aparte y analizar cúal fue su desempeño en cúanto a rendimiento."
   ]
  },
  {
   "cell_type": "markdown",
   "metadata": {},
   "source": [
    "## Parte 2 ##"
   ]
  },
  {
   "cell_type": "markdown",
   "metadata": {},
   "source": [
    "¿Cómo se justifica esta diferencia en eficiencia?."
   ]
  },
  {
   "cell_type": "markdown",
   "metadata": {},
   "source": [
    "## Metodología ## "
   ]
  },
  {
   "cell_type": "markdown",
   "metadata": {},
   "source": [
    "Para justificar debidamente esta diferencia en eficiencia, será mediante el tiempo de ejecución de cada algoritmo, lógicamente en igualdad de condiciones, con la misma cantidad de elementos por lista y en el mismo caso temporal (mejor, peor y promedio) correspondientemente. Además se confirmará con el diseño de las gráficas, como se sabe que todos estos algoritmos tienen complejidad temporal cuadrática en el peor y promedio caso, matemáticamente  el que tenga la menor tasa de crecimiento va a ser más eficiente. También se justificará con la comparación de los tiempos de ejecución en los cuadros comparativos de su respectivo caso temporal para cada algoritmo."
   ]
  },
  {
   "cell_type": "markdown",
   "metadata": {},
   "source": [
    "## Experimentación ##"
   ]
  },
  {
   "cell_type": "markdown",
   "metadata": {},
   "source": [
    "constantes a usar en estas pruebas:"
   ]
  },
  {
   "cell_type": "code",
   "execution_count": 5,
   "metadata": {},
   "outputs": [],
   "source": [
    "MEDIDAS = 100\n",
    "MIN_N = 25\n",
    "MAX_N = 1000\n",
    "REPETICIONES = 3"
   ]
  },
  {
   "cell_type": "markdown",
   "metadata": {},
   "source": [
    "## Peor caso ##"
   ]
  },
  {
   "cell_type": "markdown",
   "metadata": {},
   "source": [
    "A continuación se analizará y se graficará el peor caso de los algoritmos por intercambio de adyacentes. Para todos sería una lista en orden descendente. "
   ]
  },
  {
   "cell_type": "code",
   "execution_count": 6,
   "metadata": {},
   "outputs": [
    {
     "name": "stdout",
     "output_type": "stream",
     "text": [
      "\n",
      "burbuja = \n",
      "Quadratic: time = -0.00023 + 2.3E-07*n^2 (sec)  (r=0.00020707853201787756, r^2=0.9995494124519771)\n",
      "\n",
      "burbuja_optimizado = \n",
      "Quadratic: time = -0.0035 + 1.7E-07*n^2 (sec)  (r=0.015112049521629808, r^2=0.9427059566024534)\n",
      "\n",
      "insertion = \n",
      "Quadratic: time = -0.00038 + 6E-08*n^2 (sec)  (r=1.0955581520336583e-05, r^2=0.9996625266359911)\n",
      "\n",
      "selection = \n",
      "Quadratic: time = -0.00026 + 1.1E-07*n^2 (sec)  (r=2.246314156862917e-05, r^2=0.9998090678026257)\n"
     ]
    },
    {
     "data": {
      "image/png": "[encoded data removed]",
      "text/plain": [
       "<Figure size 432x288 with 1 Axes>"
      ]
     },
     "metadata": {
      "needs_background": "light"
     },
     "output_type": "display_data"
    }
   ],
   "source": [
    "from Algoritmos import generar_descendente\n",
    "from big_o import complexities as cls\n",
    "import Algoritmos as al\n",
    "medidas = {\"min_n\":25,\"max_n\":1000,\"n_medidas\":100,\"repeticiones\":3}\n",
    "datos_bur_peor = al.generar_datos([cls.Quadratic], generar_descendente, al.bubbleSort, medidas)\n",
    "datos_opt_peor = al.generar_datos([cls.Quadratic], generar_descendente, al.optimized_bubbleSort, medidas)\n",
    "datos_ins_peor = al.generar_datos([cls.Quadratic], generar_descendente, al.insertionSort, medidas)\n",
    "datos_sel_peor = al.generar_datos([cls.Quadratic], generar_descendente, al.selectionSort, medidas)\n",
    "al.graficar_4_casos(datos_bur_peor,datos_opt_peor,datos_ins_peor,datos_sel_peor)"
   ]
  },
  {
   "cell_type": "markdown",
   "metadata": {},
   "source": [
    "## Cuadro comparativo Peor caso ##"
   ]
  },
  {
   "cell_type": "code",
   "execution_count": 7,
   "metadata": {},
   "outputs": [
    {
     "name": "stdout",
     "output_type": "stream",
     "text": [
      "  n_elementos       BubbleSort          Optimizado          Insertion           Selection          Menor tiempo    \n",
      "      25            0.0002666s          0.0002878s          4.98e-05s           9.87e-05s           BubbleSort     \n",
      "_________________________________________________________________________________________________________________\n",
      "      74            0.0027683s          0.0022003s          0.0003609s          0.0006454s          Insertion      \n",
      "_________________________________________________________________________________________________________________\n",
      "      123           0.0034063s          0.0022299s          0.0009132s          0.0016987s          Insertion      \n",
      "_________________________________________________________________________________________________________________\n",
      "      172           0.006573s           0.0041849s          0.0017946s          0.0031846s          Insertion      \n",
      "_________________________________________________________________________________________________________________\n",
      "      221           0.0108691s          0.0070379s          0.0029199s          0.0052094s          Insertion      \n",
      "_________________________________________________________________________________________________________________\n",
      "      271           0.0161836s          0.0103301s          0.0040468s          0.0078474s          Insertion      \n",
      "_________________________________________________________________________________________________________________\n",
      "      320           0.0225667s          0.0146379s          0.005665s           0.0112055s          Insertion      \n",
      "_________________________________________________________________________________________________________________\n",
      "      369           0.0300428s          0.0192626s          0.0076498s          0.0153215s          Insertion      \n",
      "_________________________________________________________________________________________________________________\n",
      "      418           0.0388051s          0.0250221s          0.0098579s          0.0197677s          Insertion      \n",
      "_________________________________________________________________________________________________________________\n",
      "      468           0.048689s           0.0312102s          0.0125116s          0.024586s           Insertion      \n",
      "_________________________________________________________________________________________________________________\n",
      "      517           0.0593017s          0.0383594s          0.0152832s          0.0300807s          Insertion      \n",
      "_________________________________________________________________________________________________________________\n",
      "      566           0.0712706s          0.045974s           0.0184408s          0.0364884s          Insertion      \n",
      "_________________________________________________________________________________________________________________\n",
      "      615           0.0847427s          0.0546973s          0.0219405s          0.0427291s          Insertion      \n",
      "_________________________________________________________________________________________________________________\n",
      "      665           0.0991818s          0.0658054s          0.0257734s          0.0495603s          Insertion      \n",
      "_________________________________________________________________________________________________________________\n",
      "      714           0.1140163s          0.0737822s          0.0300063s          0.0577199s          Insertion      \n",
      "_________________________________________________________________________________________________________________\n",
      "      763           0.1301849s          0.0846752s          0.0343129s          0.0666757s          Insertion      \n",
      "_________________________________________________________________________________________________________________\n",
      "      812           0.1477251s          0.0962061s          0.0389928s          0.0759878s          Insertion      \n",
      "_________________________________________________________________________________________________________________\n",
      "      862           0.1678551s          0.1086631s          0.0441859s          0.0840301s          Insertion      \n",
      "_________________________________________________________________________________________________________________\n",
      "      911           0.1866541s          0.1305094s          0.0495666s          0.0942502s          Insertion      \n",
      "_________________________________________________________________________________________________________________\n",
      "      960           0.2078383s          0.1557336s          0.0551883s          0.1043215s          Insertion      \n",
      "_________________________________________________________________________________________________________________\n"
     ]
    }
   ],
   "source": [
    "al.crear_cuadros_adyacentes(datos_bur_peor, datos_opt_peor, datos_ins_peor, datos_sel_peor)"
   ]
  },
  {
   "cell_type": "markdown",
   "metadata": {},
   "source": [
    "## Caso Promedio ## "
   ]
  },
  {
   "cell_type": "markdown",
   "metadata": {},
   "source": [
    "Para el caso promedio, se generará una lista aleatoria, la cual presenta el mismo numero de elementos para que los algoritmos estén en igual de condiciones, además será una misma lista para todos, es decir, contendrán los mismos elementos."
   ]
  },
  {
   "cell_type": "code",
   "execution_count": 8,
   "metadata": {},
   "outputs": [
    {
     "name": "stdout",
     "output_type": "stream",
     "text": [
      "\n",
      "burbuja = \n",
      "Quadratic: time = 0.00014 + 1.8E-07*n^2 (sec)  (r=9.286858797630872e-05, r^2=0.9996718282210544)\n",
      "\n",
      "burbuja_optimizado = \n",
      "Quadratic: time = -0.00054 + 9.9E-08*n^2 (sec)  (r=8.413317810276232e-05, r^2=0.9990559062863421)\n",
      "\n",
      "insertion = \n",
      "Quadratic: time = -0.00026 + 3.2E-08*n^2 (sec)  (r=7.901070593270927e-06, r^2=0.9991172895574331)\n",
      "\n",
      "selection = \n",
      "Quadratic: time = -0.00024 + 1.1E-07*n^2 (sec)  (r=2.1851561839099856e-05, r^2=0.9998118836088482)\n"
     ]
    },
    {
     "data": {
      "image/png": "[encoded data removed]",
      "text/plain": [
       "<Figure size 432x288 with 1 Axes>"
      ]
     },
     "metadata": {
      "needs_background": "light"
     },
     "output_type": "display_data"
    }
   ],
   "source": [
    "from Algoritmos import generar_aleatorio\n",
    "from big_o import complexities as cls\n",
    "import Algoritmos as al\n",
    "medidas = {\"min_n\":25,\"max_n\":1000,\"n_medidas\":100,\"repeticiones\":3}\n",
    "datos_bur_prom = al.generar_datos([cls.Quadratic], generar_aleatorio, al.bubbleSort, medidas)\n",
    "datos_opt_prom = al.generar_datos([cls.Quadratic], generar_aleatorio, al.optimized_bubbleSort, medidas)\n",
    "datos_ins_prom = al.generar_datos([cls.Quadratic], generar_aleatorio, al.insertionSort, medidas)\n",
    "datos_sel_prom = al.generar_datos([cls.Quadratic], generar_aleatorio, al.selectionSort, medidas)\n",
    "al.graficar_4_casos(datos_bur_prom,datos_opt_prom,datos_ins_prom,datos_sel_prom)"
   ]
  },
  {
   "cell_type": "markdown",
   "metadata": {},
   "source": [
    "## Cuadro comparativo Caso Promedio ##"
   ]
  },
  {
   "cell_type": "code",
   "execution_count": 9,
   "metadata": {},
   "outputs": [
    {
     "name": "stdout",
     "output_type": "stream",
     "text": [
      "  n_elementos       BubbleSort          Optimizado          Insertion           Selection          Menor tiempo    \n",
      "      25            0.0003409s          7.25e-05s           3.38e-05s           9.76e-05s           BubbleSort     \n",
      "_________________________________________________________________________________________________________________\n",
      "      74            0.0026724s          0.0005343s          0.0001834s          0.0006825s          Insertion      \n",
      "_________________________________________________________________________________________________________________\n",
      "      123           0.0026704s          0.0014589s          0.0004639s          0.0016804s          Insertion      \n",
      "_________________________________________________________________________________________________________________\n",
      "      172           0.0052476s          0.002782s           0.0008565s          0.0031862s          Insertion      \n",
      "_________________________________________________________________________________________________________________\n",
      "      221           0.0084904s          0.0045299s          0.0013894s          0.0052357s          Insertion      \n",
      "_________________________________________________________________________________________________________________\n",
      "      271           0.0135022s          0.0065686s          0.0019607s          0.0077853s          Insertion      \n",
      "_________________________________________________________________________________________________________________\n",
      "      320           0.0179057s          0.0095912s          0.0029096s          0.0112469s          Insertion      \n",
      "_________________________________________________________________________________________________________________\n",
      "      369           0.0244251s           0.0131s            0.0039833s          0.0150736s          Insertion      \n",
      "_________________________________________________________________________________________________________________\n",
      "      418           0.0307522s          0.0169212s          0.0052516s          0.0197732s          Insertion      \n",
      "_________________________________________________________________________________________________________________\n",
      "      468           0.038347s           0.0207888s          0.0063929s          0.0244842s          Insertion      \n",
      "_________________________________________________________________________________________________________________\n",
      "      517           0.0466007s          0.0251925s          0.0076801s          0.0307599s          Insertion      \n",
      "_________________________________________________________________________________________________________________\n",
      "      566           0.0578048s          0.0305839s          0.0093185s          0.0360793s          Insertion      \n",
      "_________________________________________________________________________________________________________________\n",
      "      615           0.067189s           0.0369984s          0.0118219s          0.0425724s          Insertion      \n",
      "_________________________________________________________________________________________________________________\n",
      "      665           0.0781789s          0.0440636s          0.0142274s          0.0511468s          Insertion      \n",
      "_________________________________________________________________________________________________________________\n",
      "      714           0.090781s           0.0495536s          0.0155318s          0.0574677s          Insertion      \n",
      "_________________________________________________________________________________________________________________\n",
      "      763           0.1024895s          0.0567699s          0.0184588s          0.0655907s          Insertion      \n",
      "_________________________________________________________________________________________________________________\n",
      "      812           0.1159634s          0.0659468s          0.0207784s          0.0759587s          Insertion      \n",
      "_________________________________________________________________________________________________________________\n",
      "      862           0.1330905s          0.0727753s          0.0231656s          0.0857966s          Insertion      \n",
      "_________________________________________________________________________________________________________________\n",
      "      911           0.1467285s          0.0816552s          0.025995s           0.0932502s          Insertion      \n",
      "_________________________________________________________________________________________________________________\n",
      "      960           0.1632174s          0.090823s           0.0288882s          0.1055265s          Insertion      \n",
      "_________________________________________________________________________________________________________________\n"
     ]
    }
   ],
   "source": [
    "al.crear_cuadros_adyacentes(datos_bur_prom, datos_opt_prom, datos_ins_prom, datos_sel_prom)"
   ]
  },
  {
   "cell_type": "markdown",
   "metadata": {},
   "source": [
    "## Mejor Caso ##"
   ]
  },
  {
   "cell_type": "markdown",
   "metadata": {},
   "source": [
    "En el mejor de los casos se van a comparar los algoritmos en dos graficas distintas, una grafica para comparar el mejor par de ordenamientos que son los que presentan complejidad temporal lineal (burbuja optimizado e inserción), y por otro lado se confrontan los dos peores en este caso (burbuja y selección) que presentan una complejidad temporal cuadrática. "
   ]
  },
  {
   "cell_type": "code",
   "execution_count": 10,
   "metadata": {},
   "outputs": [
    {
     "name": "stdout",
     "output_type": "stream",
     "text": [
      "\n",
      "Insertion = \n",
      "Linear: time = -9.7E-07 + 4.6E-07*n (sec)  (r=1.5754967692192728e-08, r^2=0.9910604306902241)\n",
      "\n",
      "Burbuja_optimizado = \n",
      "Linear: time = 7E-05 + 1.5E-07*n (sec)  (r=8.996159361576353e-08, r^2=0.6783977028973436)\n"
     ]
    },
    {
     "data": {
      "image/png": "[encoded data removed]",
      "text/plain": [
       "<Figure size 432x288 with 1 Axes>"
      ]
     },
     "metadata": {
      "needs_background": "light"
     },
     "output_type": "display_data"
    }
   ],
   "source": [
    "from Algoritmos import generar_ascendente\n",
    "from big_o import complexities as cls\n",
    "import Algoritmos as al\n",
    "medidas = {\"min_n\":25,\"max_n\":1000,\"n_medidas\":100,\"repeticiones\":3}\n",
    "datos_opt_mejor = al.generar_datos([cls.Linear], generar_ascendente, al.optimized_bubbleSort, medidas)\n",
    "datos_ins_mejor = al.generar_datos([cls.Linear], generar_ascendente, al.insertionSort, medidas)\n",
    "al.graficar_2_casos(datos_ins_mejor,datos_opt_mejor,al.lineal,al.lineal,\"Insertion\",\"Burbuja_optimizado\")"
   ]
  },
  {
   "cell_type": "code",
   "execution_count": 11,
   "metadata": {},
   "outputs": [
    {
     "name": "stdout",
     "output_type": "stream",
     "text": [
      "\n",
      "Burbuja = \n",
      "Quadratic: time = 0.00093 + 1.2E-07*n^2 (sec)  (r=9.603960458318836e-05, r^2=0.9992459169633877)\n",
      "\n",
      "Selection = \n",
      "Quadratic: time = -0.00016 + 1.1E-07*n^2 (sec)  (r=3.444209405554659e-05, r^2=0.9997025132658581)\n"
     ]
    },
    {
     "data": {
      "image/png": "[encoded data removed]",
      "text/plain": [
       "<Figure size 432x288 with 1 Axes>"
      ]
     },
     "metadata": {
      "needs_background": "light"
     },
     "output_type": "display_data"
    }
   ],
   "source": [
    "datos_bur_mejor = al.generar_datos([cls.Quadratic], generar_ascendente, al.bubbleSort, medidas)\n",
    "datos_sel_mejor = al.generar_datos([cls.Quadratic], generar_ascendente, al.selectionSort, medidas)\n",
    "al.graficar_2_casos(datos_bur_mejor,datos_sel_mejor,al.cuadrado,al.cuadrado,\"Burbuja\",\"Selection\")"
   ]
  },
  {
   "cell_type": "markdown",
   "metadata": {},
   "source": [
    "## Cuadro comparativo mejor caso ##"
   ]
  },
  {
   "cell_type": "code",
   "execution_count": 12,
   "metadata": {},
   "outputs": [
    {
     "name": "stdout",
     "output_type": "stream",
     "text": [
      "  n_elementos       BubbleSort          Optimizado          Insertion           Selection          Menor tiempo    \n",
      "      25            0.0002094s          3.31e-05s           1.53e-05s           9.77e-05s           BubbleSort     \n",
      "_________________________________________________________________________________________________________________\n",
      "      74            0.0015097s          6.11e-05s           3.55e-05s           0.0006338s          Selection      \n",
      "_________________________________________________________________________________________________________________\n",
      "      123           0.0043576s          9.31e-05s           5.55e-05s           0.0016439s          Selection      \n",
      "_________________________________________________________________________________________________________________\n",
      "      172           0.0049106s          0.0001262s          7.73e-05s           0.0032283s          Optimizado     \n",
      "_________________________________________________________________________________________________________________\n",
      "      221           0.0062062s          0.0001595s          9.84e-05s           0.005195s           Optimizado     \n",
      "_________________________________________________________________________________________________________________\n",
      "      271           0.0094097s          0.0001922s          0.0001214s          0.0077743s          Insertion      \n",
      "_________________________________________________________________________________________________________________\n",
      "      320           0.0125943s          0.0001117s          0.0001434s          0.0111019s          Optimizado     \n",
      "_________________________________________________________________________________________________________________\n",
      "      369           0.0167575s          9.25e-05s           0.0001643s          0.0152766s          Insertion      \n",
      "_________________________________________________________________________________________________________________\n",
      "      418           0.0213734s          0.0001037s          0.0001893s          0.0192773s          Optimizado     \n",
      "_________________________________________________________________________________________________________________\n",
      "      468           0.0267519s          0.0001158s          0.0002116s          0.0245945s          Optimizado     \n",
      "_________________________________________________________________________________________________________________\n",
      "      517           0.0329199s          0.0001264s          0.0002331s          0.0300835s          Optimizado     \n",
      "_________________________________________________________________________________________________________________\n",
      "      566           0.0387528s          0.0001375s          0.0002557s          0.0357897s          Optimizado     \n",
      "_________________________________________________________________________________________________________________\n",
      "      615           0.0467853s          0.0001575s          0.0002764s          0.043605s           Optimizado     \n",
      "_________________________________________________________________________________________________________________\n",
      "      665           0.0586178s          0.0001685s          0.0003256s          0.0509678s          Optimizado     \n",
      "_________________________________________________________________________________________________________________\n",
      "      714           0.0612694s          0.0001723s          0.0003234s          0.0583248s          Optimizado     \n",
      "_________________________________________________________________________________________________________________\n",
      "      763           0.0696711s          0.000183s           0.000354s           0.0661771s          Optimizado     \n",
      "_________________________________________________________________________________________________________________\n",
      "      812           0.0789218s          0.0001946s          0.0004159s          0.0757975s          Optimizado     \n",
      "_________________________________________________________________________________________________________________\n",
      "      862           0.0883304s          0.0002048s           0.00039s           0.0833855s          Optimizado     \n",
      "_________________________________________________________________________________________________________________\n",
      "      911           0.0986586s          0.0002174s          0.0004132s          0.0929591s          Optimizado     \n",
      "_________________________________________________________________________________________________________________\n",
      "      960           0.1093776s          0.0002328s          0.0004923s          0.1036219s          Optimizado     \n",
      "_________________________________________________________________________________________________________________\n"
     ]
    }
   ],
   "source": [
    "al.crear_cuadros_adyacentes(datos_bur_mejor, datos_opt_mejor, datos_ins_mejor, datos_sel_mejor)"
   ]
  },
  {
   "cell_type": "markdown",
   "metadata": {},
   "source": [
    "## Conclusiones ##"
   ]
  },
  {
   "cell_type": "markdown",
   "metadata": {},
   "source": [
    "### Peor Caso ###"
   ]
  },
  {
   "cell_type": "markdown",
   "metadata": {},
   "source": [
    "En el peor de los casos no hay mucho que discutir, como pudimos observar en la gráfica, el ordenamiento por inserción obtuvo los menores tiempos de ejecución prácticamente en la mayoría de los tamaños de la lista, y en la comparación adquirió la curva con menor tasa de crecimiento, según la teoría matemática esto quiere decir que la complejidad siempre va a ser cuadrática, pero su tiempo es menor que el de los demás algoritmos.\n",
    "\n",
    "El ordenamiento por inserción saca partida en este caso porque simplemente escoge el primer elemento, y lo coloca al final de la lista, ya que es una lista en orden descendente y el primer elemento va a ser el mayor de todos, así sucesivamente. Comparandolo con el algoritmo por selección que fue el que más se le acercó, la diferencia es que este algoritmo tiene que ir verificando si cambia o no el elemento, por medio del `if` de la función, en cambio el algoritmo por inserción no presenta ese condicional. También cabe destacar que este caso es muy poco probable que suceda en el uso cotidiano del algoritmo."
   ]
  },
  {
   "cell_type": "markdown",
   "metadata": {},
   "source": [
    "Aquí se muestra la diferencia en las lineas de código de ambos algoritmos:\n",
    "\n",
    "Inserción: \n",
    "\n",
    "* `while j >= 0 and key < A[j]:`\n",
    "    *    `A[j + 1] = A[j]`\n",
    "    *    `j -= 1`\n",
    "    *    `A[j + 1] = key`\n",
    "\n",
    "Selección:\n",
    "* `for j in range(i,len(A)):`\n",
    "    * `if(A[j] < A[min]):` \n",
    "        * `min=j` \n",
    "  \n",
    "Se observa como el ordenamiento por selección tiene que ir preguntando si hace o no el cambio de cada elemento, mientras que el algoritmo por inserción solamente realiza el cambio, si se cumple la condición del `while`. "
   ]
  },
  {
   "cell_type": "markdown",
   "metadata": {},
   "source": [
    "### Caso Promedio ###"
   ]
  },
  {
   "cell_type": "markdown",
   "metadata": {},
   "source": [
    "En el caso promedio, al igual que el anterior, domina el ordenamiento por inserción, por las mismas razones, el algoritmo toma un elemento de la lista e iterando indeterminadas ocasiones, mediante el `while` lo coloca donde corresponde mientra se cumpla esa condición, ordenando sucesivamente la lista, sin necesidad de entrar a un condicional `if` como lo hacen el resto de algoritmos por intercambio de adyacentes.\n",
    "\n",
    "A diferencia del peor caso, el algoritmo que más se le acerco fue el burbuja optimizado, por delante del ordenamiento por selección."
   ]
  },
  {
   "cell_type": "markdown",
   "metadata": {},
   "source": [
    "Demostración de el porqué el burbuja optimizado es más eficiente que el ordenamiento por selección en el caso promedio: \n",
    "\n",
    "Burbuja optimizado: \n",
    "\n",
    "* `change = True`\n",
    "* `n = len(A)`\n",
    "* ` while (change and n>1):`  \n",
    "    * `change = False`\n",
    "    * `for j in range(0, n-1):`\n",
    "        * `if A[j] > A[j+1]:`\n",
    "\n",
    "Selección: \n",
    "* `for i in range(len(A)):`\n",
    "    * `min=i`\n",
    "    * `for j in range(i,len(A)):`\n",
    "        * `if(A[j] < A[min]):` \n",
    "            * `min=j` \n",
    "    \n",
    "Se denota mediante el código de los dos algoritmos que cuando la lista ya está ordenada, el burbuja optimizado no ingresa nuevamente al ciclo, porque no cumple con dicha condición, ahí es donde gana tiempo ante el selección, este ordenamiento tiene que ingresar a su segundo ciclo y además entra al `if` una última vez para verificar, estando la lista ya en orden.      "
   ]
  },
  {
   "cell_type": "markdown",
   "metadata": {},
   "source": [
    "### Mejor Caso ###"
   ]
  },
  {
   "cell_type": "markdown",
   "metadata": {},
   "source": [
    "En el mejor caso si se realizaron cambios, en comparación con los dos anteriores, porque en este caso existen dos algoritmos que presentan complejidad temporal lineal $O$($n$) (burbuja optimizado e inserción) , esto quiere decir que son mucho más eficientes que ordenamientos con complejidad cuadrática $O$($n^2$) (burbuja y selección).\n",
    "\n",
    "El burbuja optimizado es más eficiente sobre el ordenamiento por inserción cuando la listas tienden a ser grandes, aquí una demostración del porqué."
   ]
  },
  {
   "cell_type": "markdown",
   "metadata": {},
   "source": [
    "Burbuja optimizado: \n",
    "\n",
    "* `change = True`\n",
    "* `n = len(A)`\n",
    "* ` while (change and n>1):`  \n",
    "    * `change = False`\n",
    "    * `for j in range(0, n-1):`\n",
    "        * `if A[j] > A[j+1]:`\n",
    "        \n",
    "Inserción:\n",
    "\n",
    "* `for i in range(1, len(A)):`\n",
    "    * `key = A[i]`\n",
    "    * `j = i-1`\n",
    "    * `while j >= 0 and key < A[j]:`\n",
    "    \n",
    "La difencia en las grandes listas, es que el algoritmo por inserción tiene que recorrer toda la lista mediante el `for` e ir preguntando si se cumple la condición, esto toma más tiempo, que un burbuja optimizado que solamente entra al `while` en una ocasión, porque en su segundo intento ya el booleano cambió, por la tanto no se cumple la condición y retorna la lista ordenada en un menor tiempo.    "
   ]
  },
  {
   "cell_type": "markdown",
   "metadata": {},
   "source": [
    "Aún así, el ordenamiento por inserción es tan eficiente que en las listas un poco más pequeñas (menores a cuatrocientos elementos), recorre la lista rápidamente y la retorna mucho más rápido que el burbuja optimizado. Esto se da porque el ordenamiento por inserción nunca entra a su segundo ciclo, mientra que el burbuja optimizado sí entra en una ocasión. "
   ]
  },
  {
   "cell_type": "markdown",
   "metadata": {},
   "source": [
    "### General ###"
   ]
  },
  {
   "cell_type": "markdown",
   "metadata": {},
   "source": [
    "Realmente el algoritmo menos eficiente es el burbuja, y concuerda con la teoría, porque realmente es un algoritmo que comparandolo por ejemplo con el selección, hace prácticamente lo mismo pero en direcciones contrarias, pero la gran diferencia está, cuando la lista está finalmente ordenada, vuelve a recorrer nuevamente toda la lista y sigue pregutando si se cumple la condición del `if`, por lo que hace a este ordenamiento el que le toma mayor tiempo para ordenar los elementos de un arreglo, de todos los algoritmos por intercambio de adyacentes.  "
   ]
  },
  {
   "cell_type": "markdown",
   "metadata": {},
   "source": [
    "Se puede concluir que el algoritmo más eficiente en general, es el ordenamiento por inserción, porque presenta los menores tiempos de ejecución, y la menor tasa de crecimiento en las gráficas, en el peor y promedio caso, a excepción del mejor caso, pero como se comentó antes, igualmente con listas no tan grandes es el más rapido de todos ordenando los elementos, por lo que si se necesita utilizar algún ordenamiento por intercambio de adyacentes la mejor opción sería el ordenamiento por inserción.   "
   ]
  },
  {
   "cell_type": "markdown",
   "metadata": {},
   "source": [
    "## Bibliografía ##"
   ]
  },
  {
   "cell_type": "markdown",
   "metadata": {},
   "source": [
    "Andrea Navarro. (2016). Ordenamiento por inserción – Algoritmos de ordenamiento. 2020, de Junco Tic Sitio web: https://juncotic.com/ordenamiento-por-insercion-algoritmos-de-ordenamiento/ "
   ]
  },
  {
   "cell_type": "markdown",
   "metadata": {},
   "source": [
    "John Hunter. (2002). Matplotlib: Visualization with Python. 2020, de matplotlib Sitio web: https://matplotlib.org/"
   ]
  },
  {
   "cell_type": "markdown",
   "metadata": {},
   "source": [
    "mdamircoder. (2018). Comparison among Bubble Sort, Selection Sort and Insertion Sort. 2020, de GeeksforGeeks Sitio web: https://www.geeksforgeeks.org/comparison-among-bubble-sort-selection-sort-and-insertion-sort/"
   ]
  },
  {
   "cell_type": "markdown",
   "metadata": {},
   "source": [
    "S.A. (S.F). Algoritmo de ordenamiento por selección. 2020, de EcuRed Sitio web: https://www.ecured.cu/Algoritmo_de_ordenamiento_por_selecci%C3%B3n/"
   ]
  },
  {
   "cell_type": "markdown",
   "metadata": {},
   "source": [
    "Usman Malik. (2019). Big O Notation and Algorithm Analysis with Python Examples. 2020, de Stack Abuse Sitio web: https://stackabuse.com/big-o-notation-and-algorithm-analysis-with-python-examples/"
   ]
  }
 ],
 "metadata": {
  "kernelspec": {
   "display_name": "Python 3",
   "language": "python",
   "name": "python3"
  },
  "language_info": {
   "codemirror_mode": {
    "name": "ipython",
    "version": 3
   },
   "file_extension": ".py",
   "mimetype": "text/x-python",
   "name": "python",
   "nbconvert_exporter": "python",
   "pygments_lexer": "ipython3",
   "version": "3.7.5"
  }
 },
 "nbformat": 4,
 "nbformat_minor": 4
}
